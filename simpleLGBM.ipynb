{
  "nbformat": 4,
  "nbformat_minor": 0,
  "metadata": {
    "kernelspec": {
      "display_name": "Python 3",
      "language": "python",
      "name": "python3"
    },
    "language_info": {
      "codemirror_mode": {
        "name": "ipython",
        "version": 3
      },
      "file_extension": ".py",
      "mimetype": "text/x-python",
      "name": "python",
      "nbconvert_exporter": "python",
      "pygments_lexer": "ipython3",
      "version": "3.6.12"
    },
    "papermill": {
      "duration": 6437.996464,
      "end_time": "2021-01-21T08:40:57.591508",
      "environment_variables": {},
      "exception": null,
      "input_path": "__notebook__.ipynb",
      "output_path": "__notebook__.ipynb",
      "parameters": {},
      "start_time": "2021-01-21T06:53:39.595044",
      "version": "2.1.0"
    },
    "colab": {
      "name": "simpleLGBM.ipynb",
      "provenance": [],
      "include_colab_link": true
    }
  },
  "cells": [
    {
      "cell_type": "markdown",
      "metadata": {
        "id": "view-in-github",
        "colab_type": "text"
      },
      "source": [
        "<a href=\"https://colab.research.google.com/github/epsilon-deltta/predict-Sales/blob/master/simpleLGBM.ipynb\" target=\"_parent\"><img src=\"https://colab.research.google.com/assets/colab-badge.svg\" alt=\"Open In Colab\"/></a>"
      ]
    },
    {
      "cell_type": "code",
      "metadata": {
        "id": "eHuqpHL9SXaH",
        "outputId": "b680f99b-475c-4448-cc30-46e708c2fe33",
        "colab": {
          "base_uri": "https://localhost:8080/"
        }
      },
      "source": [
        "!pip install shap\n",
        "import pandas as pd\n",
        "import numpy as np\n",
        "import lightgbm as lgb\n",
        "import shap\n",
        "from plotly.subplots import make_subplots\n",
        "import plotly.graph_objects as go\n",
        "\n",
        "pd.set_option('display.max_rows', 160)\n",
        "pd.set_option('display.max_columns', 160)\n",
        "pd.set_option('display.max_colwidth', 30)\n",
        "\n",
        "import warnings\n",
        "warnings.filterwarnings(\"ignore\")"
      ],
      "execution_count": 2,
      "outputs": [
        {
          "output_type": "stream",
          "text": [
            "Collecting shap\n",
            "\u001b[?25l  Downloading https://files.pythonhosted.org/packages/b9/f4/c5b95cddae15be80f8e58b25edceca105aa83c0b8c86a1edad24a6af80d3/shap-0.39.0.tar.gz (356kB)\n",
            "\u001b[K     |████████████████████████████████| 358kB 5.1MB/s \n",
            "\u001b[?25hRequirement already satisfied: numpy in /usr/local/lib/python3.7/dist-packages (from shap) (1.19.5)\n",
            "Requirement already satisfied: scipy in /usr/local/lib/python3.7/dist-packages (from shap) (1.4.1)\n",
            "Requirement already satisfied: scikit-learn in /usr/local/lib/python3.7/dist-packages (from shap) (0.22.2.post1)\n",
            "Requirement already satisfied: pandas in /usr/local/lib/python3.7/dist-packages (from shap) (1.1.5)\n",
            "Requirement already satisfied: tqdm>4.25.0 in /usr/local/lib/python3.7/dist-packages (from shap) (4.41.1)\n",
            "Collecting slicer==0.0.7\n",
            "  Downloading https://files.pythonhosted.org/packages/78/c2/b3f55dfdb8af9812fdb9baf70cacf3b9e82e505b2bd4324d588888b81202/slicer-0.0.7-py3-none-any.whl\n",
            "Requirement already satisfied: numba in /usr/local/lib/python3.7/dist-packages (from shap) (0.51.2)\n",
            "Requirement already satisfied: cloudpickle in /usr/local/lib/python3.7/dist-packages (from shap) (1.3.0)\n",
            "Requirement already satisfied: joblib>=0.11 in /usr/local/lib/python3.7/dist-packages (from scikit-learn->shap) (1.0.1)\n",
            "Requirement already satisfied: pytz>=2017.2 in /usr/local/lib/python3.7/dist-packages (from pandas->shap) (2018.9)\n",
            "Requirement already satisfied: python-dateutil>=2.7.3 in /usr/local/lib/python3.7/dist-packages (from pandas->shap) (2.8.1)\n",
            "Requirement already satisfied: llvmlite<0.35,>=0.34.0.dev0 in /usr/local/lib/python3.7/dist-packages (from numba->shap) (0.34.0)\n",
            "Requirement already satisfied: setuptools in /usr/local/lib/python3.7/dist-packages (from numba->shap) (54.0.0)\n",
            "Requirement already satisfied: six>=1.5 in /usr/local/lib/python3.7/dist-packages (from python-dateutil>=2.7.3->pandas->shap) (1.15.0)\n",
            "Building wheels for collected packages: shap\n",
            "  Building wheel for shap (setup.py) ... \u001b[?25l\u001b[?25hdone\n",
            "  Created wheel for shap: filename=shap-0.39.0-cp37-cp37m-linux_x86_64.whl size=491613 sha256=6a8ca4f506c69291dd93f7d884426c1d95cbd4abe6ebee50cf694e839957613c\n",
            "  Stored in directory: /root/.cache/pip/wheels/15/27/f5/a8ab9da52fd159aae6477b5ede6eaaec69fd130fa0fa59f283\n",
            "Successfully built shap\n",
            "Installing collected packages: slicer, shap\n",
            "Successfully installed shap-0.39.0 slicer-0.0.7\n"
          ],
          "name": "stdout"
        }
      ]
    },
    {
      "cell_type": "code",
      "metadata": {
        "id": "EXI0J1jbSTpJ",
        "outputId": "742c6768-b9d9-473e-d1e8-9b562bd9dc04",
        "colab": {
          "base_uri": "https://localhost:8080/"
        }
      },
      "source": [
        "from google.colab import drive\n",
        "drive.mount('/content/drive')\n",
        "path = '/content/drive/MyDrive/kaggle/'"
      ],
      "execution_count": 4,
      "outputs": [
        {
          "output_type": "stream",
          "text": [
            "Mounted at /content/drive\n"
          ],
          "name": "stdout"
        }
      ]
    },
    {
      "cell_type": "code",
      "metadata": {
        "execution": {
          "iopub.execute_input": "2021-01-21T07:31:14.803365Z",
          "iopub.status.busy": "2021-01-21T07:31:14.802558Z",
          "iopub.status.idle": "2021-01-21T07:32:02.712848Z",
          "shell.execute_reply": "2021-01-21T07:32:02.712152Z"
        },
        "papermill": {
          "duration": 47.99124,
          "end_time": "2021-01-21T07:32:02.712967",
          "exception": false,
          "start_time": "2021-01-21T07:31:14.721727",
          "status": "completed"
        },
        "tags": [],
        "id": "uuA2odZwSMoZ"
      },
      "source": [
        "#load the saved training dataframe\n",
        "# df repository url : https://drive.google.com/drive/folders/1wlwksn_tYnYL2HcFiJNxzx0mhStjO_Gj?usp=sharing\n",
        "df = pd.read_pickle(path+'df_complete.pkl')\n",
        "\n",
        "X_train = df[~df.date_block_num.isin([0,1,33,34])]\n",
        "y_train = X_train['item_cnt']\n",
        "del X_train['item_cnt']\n",
        "\n",
        "X_val = df[df['date_block_num']==33]\n",
        "y_val = X_val['item_cnt']\n",
        "del X_val['item_cnt']\n",
        "\n",
        "X_test = df[df['date_block_num']==34].drop(columns='item_cnt')\n",
        "X_test = X_test.reset_index()\n",
        "del X_test['index']\n",
        "\n",
        "#free memory\n",
        "del df"
      ],
      "execution_count": 3,
      "outputs": []
    },
    {
      "cell_type": "code",
      "metadata": {
        "execution": {
          "iopub.execute_input": "2021-01-21T07:32:03.013606Z",
          "iopub.status.busy": "2021-01-21T07:32:03.012839Z",
          "iopub.status.idle": "2021-01-21T07:32:03.015042Z",
          "shell.execute_reply": "2021-01-21T07:32:03.015451Z"
        },
        "papermill": {
          "duration": 0.081211,
          "end_time": "2021-01-21T07:32:03.015612",
          "exception": false,
          "start_time": "2021-01-21T07:32:02.934401",
          "status": "completed"
        },
        "tags": [],
        "id": "8CXtXBYPSMoc"
      },
      "source": [
        "def build_lgb_model(params, X_train, X_val, y_train, y_val, cat_features):\n",
        "    lgb_train = lgb.Dataset(X_train, y_train)\n",
        "    lgb_val = lgb.Dataset(X_val, y_val)\n",
        "    model = lgb.train(params=params, train_set=lgb_train, valid_sets=(lgb_train, lgb_val), verbose_eval=50,\n",
        "                     categorical_feature=cat_features)\n",
        "    return model"
      ],
      "execution_count": 7,
      "outputs": []
    },
    {
      "cell_type": "code",
      "metadata": {
        "execution": {
          "iopub.execute_input": "2021-01-21T07:32:03.170639Z",
          "iopub.status.busy": "2021-01-21T07:32:03.169989Z",
          "iopub.status.idle": "2021-01-21T07:56:03.083183Z",
          "shell.execute_reply": "2021-01-21T07:56:03.084319Z"
        },
        "papermill": {
          "duration": 1439.995293,
          "end_time": "2021-01-21T07:56:03.084709",
          "exception": false,
          "start_time": "2021-01-21T07:32:03.089416",
          "status": "completed"
        },
        "tags": [],
        "id": "-aXd52U1SMoe"
      },
      "source": [
        "#skip this cell if directly loading saved model \n",
        "params = {\n",
        "    'objective': 'rmse',\n",
        "    'metric': 'rmse',\n",
        "    'num_leaves': 1023,\n",
        "    'min_data_in_leaf':10,\n",
        "    'feature_fraction':0.7,\n",
        "    'learning_rate': 0.01,\n",
        "    'num_rounds': 1000,\n",
        "    'early_stopping_rounds': 30,\n",
        "    'seed': 1 ,\n",
        "    'device':'gpu'\n",
        "}\n",
        "#designating the categorical features which should be focused on\n",
        "cat_features = ['category_id','month','shop_id','shop_city']\n",
        "\n",
        "lgb_model = build_lgb_model(params, X_train, X_val, y_train, y_val, cat_features)\n",
        "\n",
        "#save model for later use\n",
        "lgb_model.save_model('initial_lgb_model.txt')"
      ],
      "execution_count": null,
      "outputs": []
    },
    {
      "cell_type": "code",
      "metadata": {
        "id": "kOWmNA2BVX6z"
      },
      "source": [
        "lgb_model = lgb.Booster(model_file= path + 'initial_lgb_model.txt')#\r\n",
        "lgb_model.params['objective'] = 'rmse'"
      ],
      "execution_count": null,
      "outputs": []
    },
    {
      "cell_type": "code",
      "metadata": {
        "execution": {
          "iopub.execute_input": "2021-01-21T07:56:03.775821Z",
          "iopub.status.busy": "2021-01-21T07:56:03.775080Z",
          "iopub.status.idle": "2021-01-21T07:56:16.161003Z",
          "shell.execute_reply": "2021-01-21T07:56:16.160221Z"
        },
        "papermill": {
          "duration": 12.478223,
          "end_time": "2021-01-21T07:56:16.161133",
          "exception": false,
          "start_time": "2021-01-21T07:56:03.682910",
          "status": "completed"
        },
        "tags": [],
        "id": "0KJogJJBSMog"
      },
      "source": [
        "submission = pd.read_csv(path+'sample_submission.csv')\n",
        "submission['item_cnt_month'] = lgb_model.predict(X_test).clip(0,20)\n",
        "submission[['ID', 'item_cnt_month']].to_csv('my_submission.csv', index=False)"
      ],
      "execution_count": null,
      "outputs": []
    }
  ]
}