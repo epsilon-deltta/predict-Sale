{
 "cells": [
  {
   "cell_type": "code",
   "execution_count": 1,
   "metadata": {
    "_cell_guid": "b1076dfc-b9ad-4769-8c92-a6c4dae69d19",
    "_uuid": "8f2839f25d086af736a60e9eeb907d3b93b6e0e5",
    "papermill": {
     "duration": 0.03643,
     "end_time": "2021-03-07T12:11:26.141097",
     "exception": false,
     "start_time": "2021-03-07T12:11:26.104667",
     "status": "completed"
    },
    "tags": []
   },
   "outputs": [],
   "source": [
    "# This Python 3 environment comes with many helpful analytics libraries installed\n",
    "# It is defined by the kaggle/python Docker image: https://github.com/kaggle/docker-python\n",
    "# For example, here's several helpful packages to load\n",
    "\n",
    "import numpy as np # linear algebra\n",
    "import pandas as pd # data processing, CSV file I/O (e.g. pd.read_csv)\n",
    "\n",
    "# Input data files are available in the read-only \"../input/\" directory\n",
    "# For example, running this (by clicking run or pressing Shift+Enter) will list all files under the input directory"
   ]
  },
  {
   "cell_type": "code",
   "execution_count": 36,
   "metadata": {
    "papermill": {
     "duration": 9.611889,
     "end_time": "2021-03-07T12:11:35.774176",
     "exception": false,
     "start_time": "2021-03-07T12:11:26.162287",
     "status": "completed"
    },
    "tags": []
   },
   "outputs": [],
   "source": [
    "# scintific computing libraries\n",
    "import os \n",
    "import pandas as pd                                      \n",
    "import numpy as np                    \n",
    "from scipy import optimize, stats        \n",
    "\n",
    "# visualisation libraries\n",
    "import matplotlib.pyplot as plt                      \n",
    "import seaborn as sns                \n",
    "\n",
    "# algorithmic library\n",
    "from sklearn.linear_model import LinearRegression, Ridge\n",
    "from sklearn.ensemble import RandomForestRegressor, GradientBoostingRegressor\n",
    "from sklearn import svm                 \n",
    "from sklearn.linear_model import LogisticRegression                              \n",
    "from sklearn.neighbors import KNeighborsClassifier\n",
    "from sklearn.tree import DecisionTreeClassifier\n",
    "from sklearn.ensemble import RandomForestClassifier, GradientBoostingClassifier\n",
    "from xgboost.sklearn import XGBClassifier\n",
    "\n",
    "from sklearn.utils import resample\n",
    "from sklearn.preprocessing import StandardScaler, MinMaxScaler, PolynomialFeatures, LabelEncoder, OneHotEncoder\n",
    "from sklearn.model_selection import train_test_split, StratifiedKFold, KFold, cross_val_score, RandomizedSearchCV, GridSearchCV  \n",
    "from sklearn.metrics import classification_report, confusion_matrix, accuracy_score, f1_score, log_loss, mean_squared_error\n",
    "\n",
    "from tensorflow.keras.models import Sequential\n",
    "from tensorflow.keras.layers import LSTM, Dense, Flatten, Dropout\n",
    "from tensorflow.keras.layers import LeakyReLU, PReLU, ELU\n",
    "from tensorflow.keras.wrappers.scikit_learn import KerasClassifier\n",
    "from keras.utils import np_utils\n",
    "from sklearn.pipeline import Pipeline\n",
    "\n",
    "%matplotlib inline"
   ]
  },
  {
   "cell_type": "code",
   "execution_count": 37,
   "metadata": {},
   "outputs": [],
   "source": [
    "if os.path.exists('data'):\n",
    "    path = 'data/'\n",
    "elif os.path.exists('kaggle'):\n",
    "    path = 'kaggle/data/'\n",
    "else:\n",
    "    os.system('git clone https://github.com/epsilon-deltta/predict-Sales.git kaggle')\n",
    "    path = 'kaggle/data/'\n",
    "\n",
    "\n",
    "df_train = pd.read_csv(path+'sales_train.csv')\n",
    "df_shops = pd.read_csv(path+'shops.csv')\n",
    "df_items = pd.read_csv(path+'items.csv')\n",
    "df_item_categories = pd.read_csv(path+'item_categories.csv')\n",
    "df_test = pd.read_csv(path+'test.csv')\n",
    "df_sample_submission = pd.read_csv(path'sample_submission.csv')"
   ]
  },
  {
   "cell_type": "code",
   "execution_count": 13,
   "metadata": {},
   "outputs": [],
   "source": [
    "pd.set_option('display.max_rows',100)"
   ]
  },
  {
   "cell_type": "code",
   "execution_count": 12,
   "metadata": {
    "execution": {
     "iopub.execute_input": "2021-03-07T12:11:40.014346Z",
     "iopub.status.busy": "2021-03-07T12:11:40.011784Z",
     "iopub.status.idle": "2021-03-07T12:11:40.098809Z",
     "shell.execute_reply": "2021-03-07T12:11:40.100016Z"
    },
    "papermill": {
     "duration": 0.137214,
     "end_time": "2021-03-07T12:11:40.100251",
     "exception": false,
     "start_time": "2021-03-07T12:11:39.963037",
     "status": "completed"
    },
    "tags": []
   },
   "outputs": [],
   "source": [
    "df_train.drop(['date_block_num','item_price'], axis=1, inplace=True)"
   ]
  },
  {
   "cell_type": "code",
   "execution_count": 22,
   "metadata": {
    "papermill": {
     "duration": 36.87575,
     "end_time": "2021-03-07T12:12:17.016292",
     "exception": false,
     "start_time": "2021-03-07T12:11:40.140542",
     "status": "completed"
    },
    "tags": []
   },
   "outputs": [],
   "source": [
    "df_train['date'] = pd.to_datetime(df_train['date'])"
   ]
  },
  {
   "cell_type": "code",
   "execution_count": 24,
   "metadata": {
    "papermill": {
     "duration": 36.87575,
     "end_time": "2021-03-07T12:12:17.016292",
     "exception": false,
     "start_time": "2021-03-07T12:11:40.140542",
     "status": "completed"
    },
    "tags": []
   },
   "outputs": [
    {
     "data": {
      "text/html": [
       "<div>\n",
       "<style scoped>\n",
       "    .dataframe tbody tr th:only-of-type {\n",
       "        vertical-align: middle;\n",
       "    }\n",
       "\n",
       "    .dataframe tbody tr th {\n",
       "        vertical-align: top;\n",
       "    }\n",
       "\n",
       "    .dataframe thead th {\n",
       "        text-align: right;\n",
       "    }\n",
       "</style>\n",
       "<table border=\"1\" class=\"dataframe\">\n",
       "  <thead>\n",
       "    <tr style=\"text-align: right;\">\n",
       "      <th>date</th>\n",
       "      <th>item_id</th>\n",
       "      <th>shop_id</th>\n",
       "      <th>2013-01</th>\n",
       "      <th>2013-02</th>\n",
       "      <th>2013-03</th>\n",
       "      <th>2013-04</th>\n",
       "      <th>2013-05</th>\n",
       "      <th>2013-06</th>\n",
       "      <th>2013-07</th>\n",
       "      <th>2013-08</th>\n",
       "      <th>...</th>\n",
       "      <th>2015-03</th>\n",
       "      <th>2015-04</th>\n",
       "      <th>2015-05</th>\n",
       "      <th>2015-06</th>\n",
       "      <th>2015-07</th>\n",
       "      <th>2015-08</th>\n",
       "      <th>2015-09</th>\n",
       "      <th>2015-10</th>\n",
       "      <th>2015-11</th>\n",
       "      <th>2015-12</th>\n",
       "    </tr>\n",
       "  </thead>\n",
       "  <tbody>\n",
       "    <tr>\n",
       "      <th>0</th>\n",
       "      <td>0</td>\n",
       "      <td>54</td>\n",
       "      <td>0</td>\n",
       "      <td>0</td>\n",
       "      <td>0</td>\n",
       "      <td>0</td>\n",
       "      <td>0</td>\n",
       "      <td>0</td>\n",
       "      <td>0</td>\n",
       "      <td>0</td>\n",
       "      <td>...</td>\n",
       "      <td>0</td>\n",
       "      <td>0</td>\n",
       "      <td>0</td>\n",
       "      <td>0</td>\n",
       "      <td>0</td>\n",
       "      <td>0</td>\n",
       "      <td>0</td>\n",
       "      <td>0</td>\n",
       "      <td>0</td>\n",
       "      <td>0</td>\n",
       "    </tr>\n",
       "    <tr>\n",
       "      <th>1</th>\n",
       "      <td>1</td>\n",
       "      <td>55</td>\n",
       "      <td>0</td>\n",
       "      <td>0</td>\n",
       "      <td>0</td>\n",
       "      <td>0</td>\n",
       "      <td>0</td>\n",
       "      <td>0</td>\n",
       "      <td>0</td>\n",
       "      <td>0</td>\n",
       "      <td>...</td>\n",
       "      <td>0</td>\n",
       "      <td>0</td>\n",
       "      <td>0</td>\n",
       "      <td>0</td>\n",
       "      <td>0</td>\n",
       "      <td>0</td>\n",
       "      <td>0</td>\n",
       "      <td>0</td>\n",
       "      <td>0</td>\n",
       "      <td>0</td>\n",
       "    </tr>\n",
       "    <tr>\n",
       "      <th>2</th>\n",
       "      <td>2</td>\n",
       "      <td>54</td>\n",
       "      <td>0</td>\n",
       "      <td>0</td>\n",
       "      <td>0</td>\n",
       "      <td>0</td>\n",
       "      <td>0</td>\n",
       "      <td>0</td>\n",
       "      <td>0</td>\n",
       "      <td>0</td>\n",
       "      <td>...</td>\n",
       "      <td>0</td>\n",
       "      <td>0</td>\n",
       "      <td>0</td>\n",
       "      <td>0</td>\n",
       "      <td>0</td>\n",
       "      <td>0</td>\n",
       "      <td>0</td>\n",
       "      <td>0</td>\n",
       "      <td>0</td>\n",
       "      <td>0</td>\n",
       "    </tr>\n",
       "    <tr>\n",
       "      <th>3</th>\n",
       "      <td>3</td>\n",
       "      <td>54</td>\n",
       "      <td>0</td>\n",
       "      <td>0</td>\n",
       "      <td>0</td>\n",
       "      <td>0</td>\n",
       "      <td>0</td>\n",
       "      <td>0</td>\n",
       "      <td>0</td>\n",
       "      <td>0</td>\n",
       "      <td>...</td>\n",
       "      <td>0</td>\n",
       "      <td>0</td>\n",
       "      <td>0</td>\n",
       "      <td>0</td>\n",
       "      <td>0</td>\n",
       "      <td>0</td>\n",
       "      <td>0</td>\n",
       "      <td>0</td>\n",
       "      <td>0</td>\n",
       "      <td>0</td>\n",
       "    </tr>\n",
       "    <tr>\n",
       "      <th>4</th>\n",
       "      <td>4</td>\n",
       "      <td>54</td>\n",
       "      <td>0</td>\n",
       "      <td>0</td>\n",
       "      <td>0</td>\n",
       "      <td>0</td>\n",
       "      <td>0</td>\n",
       "      <td>0</td>\n",
       "      <td>0</td>\n",
       "      <td>0</td>\n",
       "      <td>...</td>\n",
       "      <td>0</td>\n",
       "      <td>0</td>\n",
       "      <td>0</td>\n",
       "      <td>0</td>\n",
       "      <td>0</td>\n",
       "      <td>0</td>\n",
       "      <td>0</td>\n",
       "      <td>0</td>\n",
       "      <td>0</td>\n",
       "      <td>0</td>\n",
       "    </tr>\n",
       "  </tbody>\n",
       "</table>\n",
       "<p>5 rows × 38 columns</p>\n",
       "</div>"
      ],
      "text/plain": [
       "date  item_id  shop_id  2013-01  2013-02  2013-03  2013-04  2013-05  2013-06  \\\n",
       "0           0       54        0        0        0        0        0        0   \n",
       "1           1       55        0        0        0        0        0        0   \n",
       "2           2       54        0        0        0        0        0        0   \n",
       "3           3       54        0        0        0        0        0        0   \n",
       "4           4       54        0        0        0        0        0        0   \n",
       "\n",
       "date  2013-07  2013-08  ...  2015-03  2015-04  2015-05  2015-06  2015-07  \\\n",
       "0           0        0  ...        0        0        0        0        0   \n",
       "1           0        0  ...        0        0        0        0        0   \n",
       "2           0        0  ...        0        0        0        0        0   \n",
       "3           0        0  ...        0        0        0        0        0   \n",
       "4           0        0  ...        0        0        0        0        0   \n",
       "\n",
       "date  2015-08  2015-09  2015-10  2015-11  2015-12  \n",
       "0           0        0        0        0        0  \n",
       "1           0        0        0        0        0  \n",
       "2           0        0        0        0        0  \n",
       "3           0        0        0        0        0  \n",
       "4           0        0        0        0        0  \n",
       "\n",
       "[5 rows x 38 columns]"
      ]
     },
     "execution_count": 24,
     "metadata": {},
     "output_type": "execute_result"
    }
   ],
   "source": [
    "df = df_train.groupby([df_train['date'].apply(lambda x: x.strftime('%Y-%m') ),'item_id','shop_id']).sum()\n",
    "df = df.pivot_table(index=['item_id','shop_id'], columns='date', values='item_cnt_day', fill_value=0)\n",
    "df.reset_index(inplace=True)\n",
    "df.head()"
   ]
  },
  {
   "cell_type": "code",
   "execution_count": 27,
   "metadata": {
    "papermill": {
     "duration": 0.674735,
     "end_time": "2021-03-07T12:12:17.718131",
     "exception": false,
     "start_time": "2021-03-07T12:12:17.043396",
     "status": "completed"
    },
    "tags": []
   },
   "outputs": [
    {
     "data": {
      "text/html": [
       "<div>\n",
       "<style scoped>\n",
       "    .dataframe tbody tr th:only-of-type {\n",
       "        vertical-align: middle;\n",
       "    }\n",
       "\n",
       "    .dataframe tbody tr th {\n",
       "        vertical-align: top;\n",
       "    }\n",
       "\n",
       "    .dataframe thead th {\n",
       "        text-align: right;\n",
       "    }\n",
       "</style>\n",
       "<table border=\"1\" class=\"dataframe\">\n",
       "  <thead>\n",
       "    <tr style=\"text-align: right;\">\n",
       "      <th></th>\n",
       "      <th>shop_id</th>\n",
       "      <th>item_id</th>\n",
       "      <th>2013-02</th>\n",
       "      <th>2013-03</th>\n",
       "      <th>2013-04</th>\n",
       "      <th>2013-05</th>\n",
       "      <th>2013-06</th>\n",
       "      <th>2013-07</th>\n",
       "      <th>2013-08</th>\n",
       "      <th>2013-09</th>\n",
       "      <th>...</th>\n",
       "      <th>2015-03</th>\n",
       "      <th>2015-04</th>\n",
       "      <th>2015-05</th>\n",
       "      <th>2015-06</th>\n",
       "      <th>2015-07</th>\n",
       "      <th>2015-08</th>\n",
       "      <th>2015-09</th>\n",
       "      <th>2015-10</th>\n",
       "      <th>2015-11</th>\n",
       "      <th>2015-12</th>\n",
       "    </tr>\n",
       "  </thead>\n",
       "  <tbody>\n",
       "    <tr>\n",
       "      <th>0</th>\n",
       "      <td>5</td>\n",
       "      <td>5037</td>\n",
       "      <td>0.0</td>\n",
       "      <td>0.0</td>\n",
       "      <td>0.0</td>\n",
       "      <td>0.0</td>\n",
       "      <td>0.0</td>\n",
       "      <td>0.0</td>\n",
       "      <td>0.0</td>\n",
       "      <td>0.0</td>\n",
       "      <td>...</td>\n",
       "      <td>0.0</td>\n",
       "      <td>0.0</td>\n",
       "      <td>3.0</td>\n",
       "      <td>1.0</td>\n",
       "      <td>1.0</td>\n",
       "      <td>3.0</td>\n",
       "      <td>0.0</td>\n",
       "      <td>0.0</td>\n",
       "      <td>0.0</td>\n",
       "      <td>0.0</td>\n",
       "    </tr>\n",
       "    <tr>\n",
       "      <th>1</th>\n",
       "      <td>5</td>\n",
       "      <td>5320</td>\n",
       "      <td>0.0</td>\n",
       "      <td>0.0</td>\n",
       "      <td>0.0</td>\n",
       "      <td>0.0</td>\n",
       "      <td>0.0</td>\n",
       "      <td>0.0</td>\n",
       "      <td>0.0</td>\n",
       "      <td>0.0</td>\n",
       "      <td>...</td>\n",
       "      <td>0.0</td>\n",
       "      <td>0.0</td>\n",
       "      <td>0.0</td>\n",
       "      <td>0.0</td>\n",
       "      <td>0.0</td>\n",
       "      <td>0.0</td>\n",
       "      <td>0.0</td>\n",
       "      <td>0.0</td>\n",
       "      <td>0.0</td>\n",
       "      <td>0.0</td>\n",
       "    </tr>\n",
       "    <tr>\n",
       "      <th>2</th>\n",
       "      <td>5</td>\n",
       "      <td>5233</td>\n",
       "      <td>0.0</td>\n",
       "      <td>0.0</td>\n",
       "      <td>0.0</td>\n",
       "      <td>0.0</td>\n",
       "      <td>0.0</td>\n",
       "      <td>0.0</td>\n",
       "      <td>0.0</td>\n",
       "      <td>0.0</td>\n",
       "      <td>...</td>\n",
       "      <td>0.0</td>\n",
       "      <td>0.0</td>\n",
       "      <td>3.0</td>\n",
       "      <td>1.0</td>\n",
       "      <td>0.0</td>\n",
       "      <td>2.0</td>\n",
       "      <td>3.0</td>\n",
       "      <td>0.0</td>\n",
       "      <td>0.0</td>\n",
       "      <td>0.0</td>\n",
       "    </tr>\n",
       "    <tr>\n",
       "      <th>3</th>\n",
       "      <td>5</td>\n",
       "      <td>5232</td>\n",
       "      <td>0.0</td>\n",
       "      <td>0.0</td>\n",
       "      <td>0.0</td>\n",
       "      <td>0.0</td>\n",
       "      <td>0.0</td>\n",
       "      <td>0.0</td>\n",
       "      <td>0.0</td>\n",
       "      <td>0.0</td>\n",
       "      <td>...</td>\n",
       "      <td>0.0</td>\n",
       "      <td>0.0</td>\n",
       "      <td>0.0</td>\n",
       "      <td>0.0</td>\n",
       "      <td>0.0</td>\n",
       "      <td>1.0</td>\n",
       "      <td>0.0</td>\n",
       "      <td>0.0</td>\n",
       "      <td>0.0</td>\n",
       "      <td>0.0</td>\n",
       "    </tr>\n",
       "    <tr>\n",
       "      <th>4</th>\n",
       "      <td>5</td>\n",
       "      <td>5268</td>\n",
       "      <td>0.0</td>\n",
       "      <td>0.0</td>\n",
       "      <td>0.0</td>\n",
       "      <td>0.0</td>\n",
       "      <td>0.0</td>\n",
       "      <td>0.0</td>\n",
       "      <td>0.0</td>\n",
       "      <td>0.0</td>\n",
       "      <td>...</td>\n",
       "      <td>0.0</td>\n",
       "      <td>0.0</td>\n",
       "      <td>0.0</td>\n",
       "      <td>0.0</td>\n",
       "      <td>0.0</td>\n",
       "      <td>0.0</td>\n",
       "      <td>0.0</td>\n",
       "      <td>0.0</td>\n",
       "      <td>0.0</td>\n",
       "      <td>0.0</td>\n",
       "    </tr>\n",
       "  </tbody>\n",
       "</table>\n",
       "<p>5 rows × 37 columns</p>\n",
       "</div>"
      ],
      "text/plain": [
       "   shop_id  item_id  2013-02  2013-03  2013-04  2013-05  2013-06  2013-07  \\\n",
       "0        5     5037      0.0      0.0      0.0      0.0      0.0      0.0   \n",
       "1        5     5320      0.0      0.0      0.0      0.0      0.0      0.0   \n",
       "2        5     5233      0.0      0.0      0.0      0.0      0.0      0.0   \n",
       "3        5     5232      0.0      0.0      0.0      0.0      0.0      0.0   \n",
       "4        5     5268      0.0      0.0      0.0      0.0      0.0      0.0   \n",
       "\n",
       "   2013-08  2013-09  ...  2015-03  2015-04  2015-05  2015-06  2015-07  \\\n",
       "0      0.0      0.0  ...      0.0      0.0      3.0      1.0      1.0   \n",
       "1      0.0      0.0  ...      0.0      0.0      0.0      0.0      0.0   \n",
       "2      0.0      0.0  ...      0.0      0.0      3.0      1.0      0.0   \n",
       "3      0.0      0.0  ...      0.0      0.0      0.0      0.0      0.0   \n",
       "4      0.0      0.0  ...      0.0      0.0      0.0      0.0      0.0   \n",
       "\n",
       "   2015-08  2015-09  2015-10  2015-11  2015-12  \n",
       "0      3.0      0.0      0.0      0.0      0.0  \n",
       "1      0.0      0.0      0.0      0.0      0.0  \n",
       "2      2.0      3.0      0.0      0.0      0.0  \n",
       "3      1.0      0.0      0.0      0.0      0.0  \n",
       "4      0.0      0.0      0.0      0.0      0.0  \n",
       "\n",
       "[5 rows x 37 columns]"
      ]
     },
     "execution_count": 27,
     "metadata": {},
     "output_type": "execute_result"
    }
   ],
   "source": [
    "df_test = pd.merge(df_test, df, on=['item_id','shop_id'], how='left')\n",
    "df_test.drop(['ID', '2013-01'], axis=1, inplace=True)\n",
    "df_test = df_test.fillna(0)\n",
    "df_test.head()"
   ]
  },
  {
   "cell_type": "code",
   "execution_count": 15,
   "metadata": {
    "execution": {
     "iopub.execute_input": "2021-03-07T12:12:17.787854Z",
     "iopub.status.busy": "2021-03-07T12:12:17.786754Z",
     "iopub.status.idle": "2021-03-07T12:12:17.791073Z",
     "shell.execute_reply": "2021-03-07T12:12:17.790401Z"
    },
    "papermill": {
     "duration": 0.041439,
     "end_time": "2021-03-07T12:12:17.791202",
     "exception": false,
     "start_time": "2021-03-07T12:12:17.749763",
     "status": "completed"
    },
    "tags": []
   },
   "outputs": [
    {
     "data": {
      "text/plain": [
       "\"df_train1 = df_train.groupby(['year','month','shop_id','item_id']).sum()\\ndf_train1.reset_index(inplace=True)\\ndf_train1.drop(['month','year','item_price'], axis=1, inplace=True)\\ndf_train1.rename(columns = {'item_cnt_day':'item_cnt_month'}, inplace=True)\\ndf_train1.head()\""
      ]
     },
     "execution_count": 15,
     "metadata": {},
     "output_type": "execute_result"
    }
   ],
   "source": [
    "'''df_train1 = df_train.groupby(['year','month','shop_id','item_id']).sum()\n",
    "df_train1.reset_index(inplace=True)\n",
    "df_train1.drop(['month','year','item_price'], axis=1, inplace=True)\n",
    "df_train1.rename(columns = {'item_cnt_day':'item_cnt_month'}, inplace=True)\n",
    "df_train1.head()'''"
   ]
  },
  {
   "cell_type": "markdown",
   "metadata": {
    "papermill": {
     "duration": 0.028068,
     "end_time": "2021-03-07T12:12:17.847594",
     "exception": false,
     "start_time": "2021-03-07T12:12:17.819526",
     "status": "completed"
    },
    "tags": []
   },
   "source": [
    "## Model Development"
   ]
  },
  {
   "cell_type": "code",
   "execution_count": 28,
   "metadata": {
    "papermill": {
     "duration": 0.114024,
     "end_time": "2021-03-07T12:12:17.992524",
     "exception": false,
     "start_time": "2021-03-07T12:12:17.878500",
     "status": "completed"
    },
    "tags": []
   },
   "outputs": [
    {
     "name": "stdout",
     "output_type": "stream",
     "text": [
      "(424124, 37) (424124,)\n",
      "(214200, 37)\n"
     ]
    }
   ],
   "source": [
    "Y_train = df['2015-12'].values\n",
    "X_train = df.drop(['2015-12'], axis = 1)\n",
    "X_test = df_test\n",
    "\n",
    "print(X_train.shape, Y_train.shape)\n",
    "print(X_test.shape)"
   ]
  },
  {
   "cell_type": "code",
   "execution_count": 29,
   "metadata": {
    "papermill": {
     "duration": 0.042921,
     "end_time": "2021-03-07T12:12:18.066205",
     "exception": false,
     "start_time": "2021-03-07T12:12:18.023284",
     "status": "completed"
    },
    "tags": []
   },
   "outputs": [],
   "source": [
    "X_train = StandardScaler().fit(X_train).transform(X_train)\n",
    "X_test = StandardScaler().fit(X_test).transform(X_test)"
   ]
  },
  {
   "cell_type": "code",
   "execution_count": 30,
   "metadata": {
    "papermill": {
     "duration": 0.292049,
     "end_time": "2021-03-07T12:12:18.387689",
     "exception": false,
     "start_time": "2021-03-07T12:12:18.095640",
     "status": "completed"
    },
    "tags": []
   },
   "outputs": [
    {
     "name": "stdout",
     "output_type": "stream",
     "text": [
      "Train set: (339299, 37) (339299,)\n",
      "Test set: (84825, 37) (84825,)\n"
     ]
    }
   ],
   "source": [
    "x_train, x_test, y_train, y_test = train_test_split( X_train, Y_train, test_size=0.2, random_state=4)\n",
    "print ('Train set:', x_train.shape,  y_train.shape)\n",
    "print ('Test set:', x_test.shape,  y_test.shape)"
   ]
  },
  {
   "cell_type": "code",
   "execution_count": 31,
   "metadata": {
    "papermill": {
     "duration": 0.869068,
     "end_time": "2021-03-07T12:12:19.287656",
     "exception": false,
     "start_time": "2021-03-07T12:12:18.418588",
     "status": "completed"
    },
    "tags": []
   },
   "outputs": [],
   "source": [
    "LR = LinearRegression()\n",
    "LR.fit(x_train,y_train)\n",
    "\n",
    "print('Train set mse:', mean_squared_error(y_train, LR.predict(x_train)))\n",
    "print('Test set mse:', mean_squared_error(y_test, LR.predict(x_test)))\n",
    "print('Test set score:', LR.score(x_train,y_train))"
   ]
  },
  {
   "cell_type": "code",
   "execution_count": 31,
   "metadata": {
    "papermill": {
     "duration": 0.869068,
     "end_time": "2021-03-07T12:12:19.287656",
     "exception": false,
     "start_time": "2021-03-07T12:12:18.418588",
     "status": "completed"
    },
    "tags": []
   },
   "outputs": [],
   "source": [
    "RFR = RandomForestRegressor(n_estimators = 50)\n",
    "RFR.fit(x_train,y_train)\n",
    "\n",
    "print('Train set mse:', mean_squared_error(y_train, RFR.predict(x_train)))\n",
    "print('Test set mse:', mean_squared_error(y_test, RFR.predict(x_test)))\n",
    "print('Test set score:', RFR.score(x_train,y_train))"
   ]
  },
  {
   "cell_type": "code",
   "execution_count": 21,
   "metadata": {
    "execution": {
     "iopub.execute_input": "2021-03-07T12:16:41.826973Z",
     "iopub.status.busy": "2021-03-07T12:16:41.826182Z",
     "iopub.status.idle": "2021-03-07T12:16:41.833154Z",
     "shell.execute_reply": "2021-03-07T12:16:41.833969Z"
    },
    "papermill": {
     "duration": 0.043215,
     "end_time": "2021-03-07T12:16:41.834172",
     "exception": false,
     "start_time": "2021-03-07T12:16:41.790957",
     "status": "completed"
    },
    "tags": []
   },
   "outputs": [
    {
     "data": {
      "text/plain": [
       "\"from lightgbm import LGBMRegressor\\nmodel=LGBMRegressor(n_estimators=200, learning_rate=0.03, max_depth=8)\\nmodel.fit(x_train,y_train)\\n\\nprint('Train set mse:', mean_squared_error(y_train, model.predict(x_train)))\\nprint('Test set mse:', mean_squared_error(y_test, model.predict(x_test)))\\nprint('Test set score:', model.score(x_train,y_train))\""
      ]
     },
     "execution_count": 21,
     "metadata": {},
     "output_type": "execute_result"
    }
   ],
   "source": [
    "'''from lightgbm import LGBMRegressor\n",
    "model=LGBMRegressor(n_estimators=200, learning_rate=0.03, max_depth=8)\n",
    "model.fit(x_train,y_train)\n",
    "\n",
    "print('Train set mse:', mean_squared_error(y_train, model.predict(x_train)))\n",
    "print('Test set mse:', mean_squared_error(y_test, model.predict(x_test)))\n",
    "print('Test set score:', model.score(x_train,y_train))'''"
   ]
  },
  {
   "cell_type": "code",
   "execution_count": 22,
   "metadata": {
    "execution": {
     "iopub.execute_input": "2021-03-07T12:16:41.904468Z",
     "iopub.status.busy": "2021-03-07T12:16:41.903623Z",
     "iopub.status.idle": "2021-03-07T12:16:41.907084Z",
     "shell.execute_reply": "2021-03-07T12:16:41.907641Z"
    },
    "papermill": {
     "duration": 0.041681,
     "end_time": "2021-03-07T12:16:41.907821",
     "exception": false,
     "start_time": "2021-03-07T12:16:41.866140",
     "status": "completed"
    },
    "tags": []
   },
   "outputs": [
    {
     "data": {
      "text/plain": [
       "\"GBR = GradientBoostingRegressor(n_estimators = 50 , max_depth = 3)\\nGBR.fit(x_train,y_train)\\n\\nprint('Train set mse:', mean_squared_error(y_train, GBR.predict(x_train)))\\nprint('Test set mse:', mean_squared_error(y_test, GBR.predict(x_test)))\\nprint('Test set score:', GBR.score(x_train,y_train))\""
      ]
     },
     "execution_count": 22,
     "metadata": {},
     "output_type": "execute_result"
    }
   ],
   "source": [
    "'''GBR = GradientBoostingRegressor(n_estimators = 50 , max_depth = 3)\n",
    "GBR.fit(x_train,y_train)\n",
    "\n",
    "print('Train set mse:', mean_squared_error(y_train, GBR.predict(x_train)))\n",
    "print('Test set mse:', mean_squared_error(y_test, GBR.predict(x_test)))\n",
    "print('Test set score:', GBR.score(x_train,y_train))'''"
   ]
  },
  {
   "cell_type": "code",
   "execution_count": null,
   "metadata": {
    "papermill": {
     "duration": 2.761675,
     "end_time": "2021-03-07T12:16:44.704816",
     "exception": false,
     "start_time": "2021-03-07T12:16:41.943141",
     "status": "completed"
    },
    "tags": []
   },
   "outputs": [],
   "source": [
    "prediction = RFR.predict(X_test)"
   ]
  },
  {
   "cell_type": "code",
   "execution_count": 24,
   "metadata": {
    "execution": {
     "iopub.execute_input": "2021-03-07T12:16:44.775001Z",
     "iopub.status.busy": "2021-03-07T12:16:44.774181Z",
     "iopub.status.idle": "2021-03-07T12:16:45.204602Z",
     "shell.execute_reply": "2021-03-07T12:16:45.205152Z"
    },
    "papermill": {
     "duration": 0.467364,
     "end_time": "2021-03-07T12:16:45.205347",
     "exception": false,
     "start_time": "2021-03-07T12:16:44.737983",
     "status": "completed"
    },
    "tags": []
   },
   "outputs": [],
   "source": [
    "prediction = list(map(round, prediction))"
   ]
  },
  {
   "cell_type": "markdown",
   "metadata": {
    "papermill": {
     "duration": 0.03227,
     "end_time": "2021-03-07T12:16:45.270773",
     "exception": false,
     "start_time": "2021-03-07T12:16:45.238503",
     "status": "completed"
    },
    "tags": []
   },
   "source": [
    "## Submission"
   ]
  },
  {
   "cell_type": "code",
   "execution_count": 25,
   "metadata": {
    "execution": {
     "iopub.execute_input": "2021-03-07T12:16:45.348890Z",
     "iopub.status.busy": "2021-03-07T12:16:45.348055Z",
     "iopub.status.idle": "2021-03-07T12:16:45.354699Z",
     "shell.execute_reply": "2021-03-07T12:16:45.353978Z"
    },
    "papermill": {
     "duration": 0.051536,
     "end_time": "2021-03-07T12:16:45.354845",
     "exception": false,
     "start_time": "2021-03-07T12:16:45.303309",
     "status": "completed"
    },
    "tags": []
   },
   "outputs": [
    {
     "name": "stdout",
     "output_type": "stream",
     "text": [
      "(214200, 2)\n"
     ]
    },
    {
     "data": {
      "text/html": [
       "<div>\n",
       "<style scoped>\n",
       "    .dataframe tbody tr th:only-of-type {\n",
       "        vertical-align: middle;\n",
       "    }\n",
       "\n",
       "    .dataframe tbody tr th {\n",
       "        vertical-align: top;\n",
       "    }\n",
       "\n",
       "    .dataframe thead th {\n",
       "        text-align: right;\n",
       "    }\n",
       "</style>\n",
       "<table border=\"1\" class=\"dataframe\">\n",
       "  <thead>\n",
       "    <tr style=\"text-align: right;\">\n",
       "      <th></th>\n",
       "      <th>ID</th>\n",
       "      <th>item_cnt_month</th>\n",
       "    </tr>\n",
       "  </thead>\n",
       "  <tbody>\n",
       "    <tr>\n",
       "      <th>0</th>\n",
       "      <td>0</td>\n",
       "      <td>0.5</td>\n",
       "    </tr>\n",
       "    <tr>\n",
       "      <th>1</th>\n",
       "      <td>1</td>\n",
       "      <td>0.5</td>\n",
       "    </tr>\n",
       "    <tr>\n",
       "      <th>2</th>\n",
       "      <td>2</td>\n",
       "      <td>0.5</td>\n",
       "    </tr>\n",
       "    <tr>\n",
       "      <th>3</th>\n",
       "      <td>3</td>\n",
       "      <td>0.5</td>\n",
       "    </tr>\n",
       "    <tr>\n",
       "      <th>4</th>\n",
       "      <td>4</td>\n",
       "      <td>0.5</td>\n",
       "    </tr>\n",
       "  </tbody>\n",
       "</table>\n",
       "</div>"
      ],
      "text/plain": [
       "   ID  item_cnt_month\n",
       "0   0             0.5\n",
       "1   1             0.5\n",
       "2   2             0.5\n",
       "3   3             0.5\n",
       "4   4             0.5"
      ]
     },
     "execution_count": 25,
     "metadata": {},
     "output_type": "execute_result"
    }
   ],
   "source": [
    "print(df_sample_submission.shape)\n",
    "df_sample_submission.head()"
   ]
  },
  {
   "cell_type": "code",
   "execution_count": 26,
   "metadata": {
    "execution": {
     "iopub.execute_input": "2021-03-07T12:16:45.429067Z",
     "iopub.status.busy": "2021-03-07T12:16:45.427992Z",
     "iopub.status.idle": "2021-03-07T12:16:46.144474Z",
     "shell.execute_reply": "2021-03-07T12:16:46.143768Z"
    },
    "papermill": {
     "duration": 0.755953,
     "end_time": "2021-03-07T12:16:46.144713",
     "exception": false,
     "start_time": "2021-03-07T12:16:45.388760",
     "status": "completed"
    },
    "tags": []
   },
   "outputs": [
    {
     "data": {
      "text/html": [
       "<div>\n",
       "<style scoped>\n",
       "    .dataframe tbody tr th:only-of-type {\n",
       "        vertical-align: middle;\n",
       "    }\n",
       "\n",
       "    .dataframe tbody tr th {\n",
       "        vertical-align: top;\n",
       "    }\n",
       "\n",
       "    .dataframe thead th {\n",
       "        text-align: right;\n",
       "    }\n",
       "</style>\n",
       "<table border=\"1\" class=\"dataframe\">\n",
       "  <thead>\n",
       "    <tr style=\"text-align: right;\">\n",
       "      <th></th>\n",
       "      <th>ID</th>\n",
       "      <th>item_cnt_month</th>\n",
       "    </tr>\n",
       "  </thead>\n",
       "  <tbody>\n",
       "    <tr>\n",
       "      <th>0</th>\n",
       "      <td>0</td>\n",
       "      <td>1.0</td>\n",
       "    </tr>\n",
       "    <tr>\n",
       "      <th>1</th>\n",
       "      <td>1</td>\n",
       "      <td>0.0</td>\n",
       "    </tr>\n",
       "    <tr>\n",
       "      <th>2</th>\n",
       "      <td>2</td>\n",
       "      <td>1.0</td>\n",
       "    </tr>\n",
       "    <tr>\n",
       "      <th>3</th>\n",
       "      <td>3</td>\n",
       "      <td>0.0</td>\n",
       "    </tr>\n",
       "    <tr>\n",
       "      <th>4</th>\n",
       "      <td>4</td>\n",
       "      <td>0.0</td>\n",
       "    </tr>\n",
       "  </tbody>\n",
       "</table>\n",
       "</div>"
      ],
      "text/plain": [
       "   ID  item_cnt_month\n",
       "0   0             1.0\n",
       "1   1             0.0\n",
       "2   2             1.0\n",
       "3   3             0.0\n",
       "4   4             0.0"
      ]
     },
     "execution_count": 26,
     "metadata": {},
     "output_type": "execute_result"
    }
   ],
   "source": [
    "df_sample_submission['item_cnt_month'] = prediction\n",
    "df_sample_submission.to_csv('prediction.csv', index=False)\n",
    "df_sample_submission.head()"
   ]
  },
  {
   "cell_type": "code",
   "execution_count": null,
   "metadata": {
    "papermill": {
     "duration": 0.033869,
     "end_time": "2021-03-07T12:16:46.213461",
     "exception": false,
     "start_time": "2021-03-07T12:16:46.179592",
     "status": "completed"
    },
    "tags": []
   },
   "outputs": [],
   "source": []
  }
 ],
 "metadata": {
  "kernelspec": {
   "display_name": "Python 3",
   "language": "python",
   "name": "python3"
  },
  "language_info": {
   "codemirror_mode": {
    "name": "ipython",
    "version": 3
   },
   "file_extension": ".py",
   "mimetype": "text/x-python",
   "name": "python",
   "nbconvert_exporter": "python",
   "pygments_lexer": "ipython3",
   "version": "3.6.12"
  },
  "papermill": {
   "duration": 325.478825,
   "end_time": "2021-03-07T12:16:46.357306",
   "environment_variables": {},
   "exception": null,
   "input_path": "__notebook__.ipynb",
   "output_path": "__notebook__.ipynb",
   "parameters": {},
   "start_time": "2021-03-07T12:11:20.878481",
   "version": "2.1.0"
  },
  "widgets": {
   "application/vnd.jupyter.widget-state+json": {
    "state": {},
    "version_major": 2,
    "version_minor": 0
   }
  }
 },
 "nbformat": 4,
 "nbformat_minor": 4
}
